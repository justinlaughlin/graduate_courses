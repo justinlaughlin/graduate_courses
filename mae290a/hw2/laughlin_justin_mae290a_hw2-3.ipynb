{
 "cells": [
  {
   "cell_type": "markdown",
   "metadata": {},
   "source": [
    "## A11535519 - Justin Laughlin\n",
    "### MAE 290A: Homework 2 (10/19/17)\n",
    "### Problem 3"
   ]
  },
  {
   "cell_type": "code",
   "execution_count": 1,
   "metadata": {
    "collapsed": true
   },
   "outputs": [],
   "source": [
    "# Import necessary packages & configure settings\n",
    "import numpy as np\n",
    "from scipy import linalg\n",
    "import matplotlib.pyplot as plt\n",
    "import timeit\n",
    "import time\n",
    "\n",
    "%matplotlib inline\n",
    "fs_med = 16 # medium font size for plots"
   ]
  },
  {
   "cell_type": "markdown",
   "metadata": {},
   "source": [
    "<img src=\"hw2_3.png\">"
   ]
  },
  {
   "cell_type": "markdown",
   "metadata": {},
   "source": [
    "### Part 1: Discretize equation & BCs "
   ]
  },
  {
   "cell_type": "markdown",
   "metadata": {},
   "source": [
    "Using the second order finite difference approximation:\n",
    "$$\\frac{\\partial^2 u}{\\partial x^2} \\approx \\frac{u_{i+1} - 2 u_i + u_{i-1}}{h^2}$$\n",
    "\n",
    "We can discretize eq.(1) as\n",
    "$$u_{i+1} - 2 u_i + u_{i-1} = h^2 \\left[ \\cos{2 \\pi x_i} - 1 \\right]$$\n",
    "\n",
    "Also using a Right Riemann Sum we can approximate the integral boundary condition as such,\n",
    "$$\\int_0^1 u(x) \\, dx \\approx h \\cdot \\sum_{i=2}^N u_i = 0 \\rightarrow \\sum_{i=2}^N u_i = 0 $$\n",
    "\n",
    "$x=0$ corresponds to the left-most node, $x_1$, so the first boundary condition is simply \n",
    "$$u(0) = u_1 = 0$$"
   ]
  },
  {
   "cell_type": "markdown",
   "metadata": {},
   "source": [
    "### Part 2: Rewrite eq.(1) in matrix form"
   ]
  },
  {
   "cell_type": "markdown",
   "metadata": {},
   "source": [
    "### Re-writing discretized equation in matrix form ($\\mathbf{A} \\cdot \\mathbf{u} = \\mathbf{f}$)\n",
    "\n",
    "Constructing the matrix for $N=7$... Note that we cannot satisfy the finite difference equation at $i=N$; we therefore use that row to enforce the integral boundary condition. Also $f(0)=f(1)=0$ by definition of $f(x)$.\n",
    "\n",
    "$$\\begin{pmatrix}\n",
    "1 & 0 & 0 & 0 & 0 & 0 & 0\\\\\n",
    "0 & -2 & 1 & 0 & 0 & 0 & 0\\\\\n",
    "0 & 1 & -2 & 1 & 0 & 0 & 0\\\\\n",
    "0 & 0 & 1 & -2 & 1 & 0 & 0\\\\\n",
    "0 & 0 & 0 & 1 & -2 & 1 & 0\\\\\n",
    "0 & 0 & 0 & 0 & 1 & -2 & 1\\\\\n",
    "0 & 1 & 1 & 1 & 1 & 1 & 1\\\\\n",
    "\\end{pmatrix}\n",
    "\\begin{pmatrix}\n",
    "u_1 \\\\\n",
    "u_2 \\\\\n",
    "u_3 \\\\\n",
    "u_4 \\\\\n",
    "u_5 \\\\\n",
    "u_6 \\\\\n",
    "u_7 \\\\\n",
    "\\end{pmatrix} =\n",
    "h^2 \\begin{pmatrix}\n",
    "0 \\\\\n",
    "\\cos{(2\\pi x_2)} - 1 \\\\\n",
    "\\cos{(2\\pi x_3)} - 1 \\\\\n",
    "\\cos{(2\\pi x_4)} - 1 \\\\\n",
    "\\cos{(2\\pi x_5)} - 1 \\\\\n",
    "\\cos{(2\\pi x_6)} - 1 \\\\\n",
    "0 \n",
    "\\end{pmatrix}$$\n",
    "\n",
    "\n"
   ]
  },
  {
   "cell_type": "markdown",
   "metadata": {},
   "source": [
    "### Part 3: Solve for $A^{-1}$ using the Sherman-Morrison formula"
   ]
  },
  {
   "cell_type": "markdown",
   "metadata": {},
   "source": [
    "Say we have the tridiagonal matrix corresponding to the system above without the integral boundary condition:\n",
    "$$\\hat{A} = \\begin{pmatrix}\n",
    "1 & 0 & 0 & 0 & 0 & 0 & 0\\\\\n",
    "0 & -2 & 1 & 0 & 0 & 0 & 0\\\\\n",
    "0 & 1 & -2 & 1 & 0 & 0 & 0\\\\\n",
    "0 & 0 & 1 & -2 & 1 & 0 & 0\\\\\n",
    "0 & 0 & 0 & 1 & -2 & 1 & 0\\\\\n",
    "0 & 0 & 0 & 0 & 1 & -2 & 1\\\\\n",
    "0 & 0 & 0 & 0 & 0 & 1 & -2\\\\\n",
    "\\end{pmatrix}$$\n",
    "\n",
    "Being a tri-diagonal matrix we can easily solve this in $\\mathcal{O}(N)$ time using LU decomposition!! Once we have $\\hat{A}^{-1}$ we can apply Sherman-Morrisan formula to find $A^{-1}$ with the addition of the following dyadic product:\n",
    "\n",
    "$$A = \\hat{A} + u \\otimes v$$\n",
    "$$u = \\begin{pmatrix}\n",
    "0 & 0 & 0 & 0 & 0 & 0 & 1\\\\\n",
    "\\end{pmatrix}^T$$\n",
    "$$v = \\begin{pmatrix}\n",
    "0 & 1 & 1 & 1 & 1 & 0 & 3\\\\\n",
    "\\end{pmatrix}^T$$\n",
    "\n",
    "The Sherman-Morrison formula states\n",
    "\n",
    "$$(A + u \\otimes v)^{-1} = A^{-1} - \\frac{(A^{-1} \\cdot u) \\otimes (v\\cdot A^{-1})}{1 + \\lambda}, ~~~~~~ \\lambda = v\\cdot A^{-1} \\cdot u$$"
   ]
  },
  {
   "cell_type": "markdown",
   "metadata": {},
   "source": [
    "Let's calculate $\\hat{A}^{-1}$ using LU decomposition. To do so we first find the LU decomposition of $A$ (in scipy's implementation $A=PLU$, then because \n",
    "$$PLU A^{-1} = I_N$$\n",
    "where $I_N$ is the identity matrix of size $N$, we can solve for $A^{-1}$ using forward & back substitution for each column of $A^{-1}$ one at a time:"
   ]
  },
  {
   "cell_type": "code",
   "execution_count": 2,
   "metadata": {
    "collapsed": true
   },
   "outputs": [],
   "source": [
    "# Forward substitution\n",
    "# Solves Ly=f when L is lower diagonal\n",
    "def fsub(L,f):\n",
    "    # Initialize\n",
    "    N = len(f)\n",
    "    y = np.ndarray((N,), dtype=np.double)\n",
    "    y[0] = f[0]/L[0,0]\n",
    "    \n",
    "    # Forward sub\n",
    "    for j in np.arange(1,N):\n",
    "        y[j] = (f[j] - np.dot(L[j,0:j],y[0:j]))/L[j,j]\n",
    "    \n",
    "    return y\n",
    "\n",
    "# Backward substitution\n",
    "# Solves Ux=y when U is upper diagonal\n",
    "def bsub(U,y):\n",
    "        # Initialize\n",
    "    N = len(y)\n",
    "    x = np.ndarray((N,), dtype=np.double)\n",
    "    x[-1] = y[-1]/U[N-1,N-1]\n",
    "    \n",
    "    # Backward sub\n",
    "    for j in np.arange(N-2,-1,-1):\n",
    "        x[j] = (y[j] - np.dot(U[j,(j+1):],x[(j+1):]))/U[j,j]\n",
    "    \n",
    "    return x\n",
    "\n",
    "# Solve for the inverse of A using LU decomposition\n",
    "def LUinv(A):\n",
    "    N = len(A)\n",
    "    Ainv = np.ndarray((N,N), dtype=np.double)\n",
    "    # Perform LU decomposition. In scipy's implementation A = PLU\n",
    "    P, L, U = linalg.lu(A)\n",
    "    \n",
    "    # Now we solve for A^{-1} one column at a time:\n",
    "    for j in np.arange(N):\n",
    "        Icol = np.zeros((N,))\n",
    "        Icol[j] = 1\n",
    "        F = np.dot(P.T,Icol)\n",
    "        y = fsub(L,F)\n",
    "        Ainv[:,j] = bsub(U,y)\n",
    "        \n",
    "    return Ainv"
   ]
  },
  {
   "cell_type": "code",
   "execution_count": 3,
   "metadata": {
    "collapsed": true
   },
   "outputs": [],
   "source": [
    "Ahat = np.array(([[1, 0, 0, 0, 0, 0, 0],\n",
    "[0, -2, 1, 0, 0, 0, 0],\n",
    "[0, 1, -2, 1, 0, 0, 0],\n",
    "[0, 0, 1, -2, 1, 0, 0],\n",
    "[0, 0, 0, 1, -2, 1, 0],\n",
    "[0, 0, 0, 0, 1, -2, 1],\n",
    "[0, 0, 0, 0, 0, 1, -2]]), dtype=np.double)\n",
    "\n",
    "Ahatinv = LUinv(Ahat)"
   ]
  },
  {
   "cell_type": "markdown",
   "metadata": {},
   "source": [
    "Now that we have calculated $\\hat{A}^{-1}$ using LU decomposition we can calculate $A^{-1}$ using the Sherman-Morrison Formula"
   ]
  },
  {
   "cell_type": "code",
   "execution_count": 4,
   "metadata": {
    "collapsed": false,
    "scrolled": true
   },
   "outputs": [
    {
     "data": {
      "text/plain": [
       "array([[ 1.        ,  0.        ,  0.        ,  0.        ,  0.        ,\n",
       "         0.        ,  0.        ],\n",
       "       [-0.        , -0.71428571, -0.47619048, -0.28571429, -0.14285714,\n",
       "        -0.04761905,  0.04761905],\n",
       "       [-0.        , -0.42857143, -0.95238095, -0.57142857, -0.28571429,\n",
       "        -0.0952381 ,  0.0952381 ],\n",
       "       [-0.        , -0.14285714, -0.42857143, -0.85714286, -0.42857143,\n",
       "        -0.14285714,  0.14285714],\n",
       "       [-0.        ,  0.14285714,  0.0952381 , -0.14285714, -0.57142857,\n",
       "        -0.19047619,  0.19047619],\n",
       "       [-0.        ,  0.42857143,  0.61904762,  0.57142857,  0.28571429,\n",
       "        -0.23809524,  0.23809524],\n",
       "       [-0.        ,  0.71428571,  1.14285714,  1.28571429,  1.14285714,\n",
       "         0.71428571,  0.28571429]])"
      ]
     },
     "execution_count": 4,
     "metadata": {},
     "output_type": "execute_result"
    }
   ],
   "source": [
    "# Construct A so we can check that A^{-1} was calculated properly...\n",
    "A = np.array(([[1, 0, 0, 0, 0, 0, 0],\n",
    "[0, -2, 1, 0, 0, 0, 0],\n",
    "[0, 1, -2, 1, 0, 0, 0],\n",
    "[0, 0, 1, -2, 1, 0, 0],\n",
    "[0, 0, 0, 1, -2, 1, 0],\n",
    "[0, 0, 0, 0, 1, -2, 1],\n",
    "[0, 1, 1, 1, 1, 1, 1]]), dtype=np.double)\n",
    "\n",
    "N = len(Ahat)\n",
    "h = 1/(np.double(N)-1)\n",
    "usm = np.zeros((N,))\n",
    "usm[-1] = 1\n",
    "vsm = np.ones((N,))\n",
    "vsm[0],vsm[-1],vsm[-2] = 0,3,0\n",
    "\n",
    "lambdasm = np.dot(np.dot(vsm,Ahatinv),usm)\n",
    "Ainv = Ahatinv - np.outer(np.dot(Ahatinv,usm),np.dot(vsm,Ahatinv))/(1+lambdasm)\n",
    "Ainv"
   ]
  },
  {
   "cell_type": "markdown",
   "metadata": {},
   "source": [
    "Check that the $A^{-1}$ we calculated is correct by comparing $A \\cdot A^{-1}$ with the identity matrix:"
   ]
  },
  {
   "cell_type": "code",
   "execution_count": 5,
   "metadata": {
    "collapsed": false,
    "scrolled": false
   },
   "outputs": [
    {
     "data": {
      "text/plain": [
       "array([[ True,  True,  True,  True,  True,  True,  True],\n",
       "       [ True,  True,  True,  True,  True,  True,  True],\n",
       "       [ True,  True,  True,  True,  True,  True,  True],\n",
       "       [ True,  True,  True,  True,  True,  True,  True],\n",
       "       [ True,  True,  True,  True,  True,  True,  True],\n",
       "       [ True,  True,  True,  True,  True,  True,  True],\n",
       "       [ True,  True,  True,  True,  True,  True,  True]], dtype=bool)"
      ]
     },
     "execution_count": 5,
     "metadata": {},
     "output_type": "execute_result"
    }
   ],
   "source": [
    "np.isclose(np.dot(A,Ainv),np.eye(N))"
   ]
  },
  {
   "cell_type": "markdown",
   "metadata": {},
   "source": [
    "Now let's plot $u$"
   ]
  },
  {
   "cell_type": "code",
   "execution_count": 6,
   "metadata": {
    "collapsed": false
   },
   "outputs": [
    {
     "data": {
      "text/plain": [
       "<matplotlib.text.Text at 0x17bcbf7d8d0>"
      ]
     },
     "execution_count": 6,
     "metadata": {},
     "output_type": "execute_result"
    },
    {
     "data": {
      "image/png": "[encoded data removed]",
      "text/plain": [
       "<matplotlib.figure.Figure at 0x17bcbccd320>"
      ]
     },
     "metadata": {},
     "output_type": "display_data"
    }
   ],
   "source": [
    "x = np.linspace(0,1,N)\n",
    "f = h**2*(np.cos(2*np.pi*x)-1)\n",
    "u = np.dot(Ainv,f)\n",
    "plt.plot(x,u)\n",
    "plt.ylabel('u(x)', fontsize=fs_med)\n",
    "plt.xlabel('x', fontsize=fs_med)\n",
    "plt.title('u(x) [numerical,N=7]', fontsize=fs_med)"
   ]
  },
  {
   "cell_type": "markdown",
   "metadata": {},
   "source": [
    "### For N=30 Solve for $A^{-1}$ using Sherman-Morrison. Solve for $u$"
   ]
  },
  {
   "cell_type": "code",
   "execution_count": 7,
   "metadata": {
    "collapsed": true
   },
   "outputs": [],
   "source": [
    "N = 30\n",
    "h = 1/(np.double(N)-1)\n",
    "\n",
    "# Construct the tridiagonal matrix, Ahat\n",
    "# np.diag(v,k) for some vector v, constructs a 2d array with v on the kth diagonal\n",
    "Ahat = np.diag(-2*np.ones((N,)),0) + np.diag(np.ones((N-1,)),1) + np.diag(np.ones((N-1,)),-1)\n",
    "Ahat[1,0], Ahat[0,1] = 0, 0\n",
    "\n",
    "Ahatinv = LUinv(Ahat)"
   ]
  },
  {
   "cell_type": "code",
   "execution_count": 15,
   "metadata": {
    "collapsed": false
   },
   "outputs": [
    {
     "name": "stdout",
     "output_type": "stream",
     "text": [
      "Upper right 5x5 of A^{-1}:\n",
      "\n",
      " [[-0.5        -0.         -0.         -0.         -0.        ]\n",
      " [-0.         -0.93333333 -0.86896552 -0.80689655 -0.74712644]\n",
      " [-0.         -0.86666667 -1.73793103 -1.6137931  -1.49425287]\n",
      " [-0.         -0.8        -1.60689655 -2.42068966 -2.24137931]\n",
      " [-0.         -0.73333333 -1.47586207 -2.22758621 -2.98850575]]\n"
     ]
    }
   ],
   "source": [
    "usm = np.zeros((N,))\n",
    "usm[-1] = 1\n",
    "vsm = np.ones((N,))\n",
    "vsm[0],vsm[-1],vsm[-2] = 0,3,0\n",
    "\n",
    "lambdasm = np.dot(np.dot(vsm,Ahatinv),usm)\n",
    "Ainv = Ahatinv - np.outer(np.dot(Ahatinv,usm),np.dot(vsm,Ahatinv))/(1+lambdasm)\n",
    "print('Upper right 5x5 of A^{-1}:\\n\\n',Ainv[0:5,0:5])"
   ]
  },
  {
   "cell_type": "code",
   "execution_count": 9,
   "metadata": {
    "collapsed": false
   },
   "outputs": [
    {
     "data": {
      "text/plain": [
       "array([ 0.        ,  0.00999712,  0.01996644,  0.02982587,  0.03944283,\n",
       "        0.04864052,  0.05720611,  0.06490075,  0.07147071,  0.07665923,\n",
       "        0.08021858,  0.08192158,  0.08157226,  0.07901503,  0.07414193,\n",
       "        0.06689767,  0.05728226,  0.04535098,  0.03121177,  0.01502026,\n",
       "       -0.0030276 , -0.02270464, -0.04376311, -0.06594626, -0.08900037,\n",
       "       -0.11268657, -0.13679205, -0.16113999, -0.18559783, -0.21008347])"
      ]
     },
     "execution_count": 9,
     "metadata": {},
     "output_type": "execute_result"
    }
   ],
   "source": [
    "x = np.linspace(0,1,N)\n",
    "f = h**2*(np.cos(2*np.pi*x)-1)\n",
    "u=np.dot(Ainv,f)\n",
    "u"
   ]
  },
  {
   "cell_type": "code",
   "execution_count": 10,
   "metadata": {
    "collapsed": false
   },
   "outputs": [
    {
     "data": {
      "text/plain": [
       "<matplotlib.text.Text at 0x17bcbee55c0>"
      ]
     },
     "execution_count": 10,
     "metadata": {},
     "output_type": "execute_result"
    },
    {
     "data": {
      "image/png": "[encoded data removed]",
      "text/plain": [
       "<matplotlib.figure.Figure at 0x17bcbcb9c18>"
      ]
     },
     "metadata": {},
     "output_type": "display_data"
    }
   ],
   "source": [
    "plt.plot(x,u)\n",
    "plt.ylabel('u(x)', fontsize=fs_med)\n",
    "plt.xlabel('x', fontsize=fs_med)\n",
    "plt.title('u(x) [numerical,N=30]', fontsize=fs_med)"
   ]
  },
  {
   "cell_type": "markdown",
   "metadata": {},
   "source": [
    "### Part 5) Compare answer with exact solution"
   ]
  },
  {
   "cell_type": "markdown",
   "metadata": {},
   "source": [
    "#### Solving for $u(x)$ analytically\n",
    "\n",
    "Since $u=u(x)$ we can easily solve this equation analytically by integrating twice...\n",
    "\n",
    "$$\\frac{\\partial u}{\\partial x} = \\frac{1}{2\\pi}\\sin{(2\\pi x)} - x + A$$\n",
    "$$u(x) = \\frac{-1}{(2\\pi)^2}\\cos{(2\\pi x)} - \\frac{x^2}{2} + Ax + B$$\n",
    "\n",
    "Applying the BCs gives:\n",
    "\n",
    "$$u(0) = 0 = \\frac{-1}{(2\\pi)^2} + B \\rightarrow \\boxed{B=\\frac{1}{(2\\pi)^2}}$$\n",
    "$$\\int_0^1 u(x)\\,dx = 0 = \\left[ \\frac{1}{(2\\pi)^2}\\left(x-\\frac{\\sin{(2\\pi)}}{2\\pi}\\right) - \\frac{x^3}{6} + \\frac{Ax^2}{2} \\right]^1_0\\rightarrow \\boxed{A=\\frac13 - \\frac{1}{2\\pi^2}}$$\n",
    "\n",
    "\n",
    "And plugging $A$ and $B$ into our solution gives:\n",
    "$$\\boxed{u(x) = \\frac{1}{(2\\pi)^2} \\left(1 - \\cos{2\\pi x} \\right) - \\frac{x^2}{2} + \\left(\\frac13 - \\frac{1}{2\\pi^2}\\right)x}$$"
   ]
  },
  {
   "cell_type": "code",
   "execution_count": 11,
   "metadata": {
    "collapsed": true
   },
   "outputs": [],
   "source": [
    "ua = (1-np.cos(2*np.pi*x))/(2*np.pi)**2 - x**2/2 + (1/3 - 1/(2*np.pi**2))*x"
   ]
  },
  {
   "cell_type": "code",
   "execution_count": 12,
   "metadata": {
    "collapsed": false,
    "scrolled": true
   },
   "outputs": [
    {
     "data": {
      "text/plain": [
       "<matplotlib.legend.Legend at 0x17bcbc36b70>"
      ]
     },
     "execution_count": 12,
     "metadata": {},
     "output_type": "execute_result"
    },
    {
     "data": {
      "image/png": "[encoded data removed]",
      "text/plain": [
       "<matplotlib.figure.Figure at 0x17bcbedd048>"
      ]
     },
     "metadata": {},
     "output_type": "display_data"
    }
   ],
   "source": [
    "plt.plot(x,ua, label=\"analytical\")\n",
    "plt.plot(x,u,linestyle=':', label=\"numerical,N=30\")\n",
    "plt.ylabel('u(x)', fontsize=fs_med)\n",
    "plt.xlabel('x', fontsize=fs_med)\n",
    "plt.legend(bbox_to_anchor=(0., 1.02, 1., .102), loc=3,\n",
    "           ncol=2, mode=\"expand\", borderaxespad=0., fontsize=12)"
   ]
  },
  {
   "cell_type": "markdown",
   "metadata": {},
   "source": [
    "Numerical solution seems to match the analytical solution fairly well!"
   ]
  }
 ],
 "metadata": {
  "kernelspec": {
   "display_name": "Python 3",
   "language": "python",
   "name": "python3"
  },
  "language_info": {
   "codemirror_mode": {
    "name": "ipython",
    "version": 3
   },
   "file_extension": ".py",
   "mimetype": "text/x-python",
   "name": "python",
   "nbconvert_exporter": "python",
   "pygments_lexer": "ipython3",
   "version": "3.6.0"
  }
 },
 "nbformat": 4,
 "nbformat_minor": 2
}
