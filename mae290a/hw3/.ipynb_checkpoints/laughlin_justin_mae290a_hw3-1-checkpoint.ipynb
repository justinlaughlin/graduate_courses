{
 "cells": [
  {
   "cell_type": "markdown",
   "metadata": {},
   "source": [
    "## A11535519 - Justin Laughlin\n",
    "### MAE 290A: Homework 3 (11/21/17)\n",
    "### Problem 1"
   ]
  },
  {
   "cell_type": "code",
   "execution_count": 3,
   "metadata": {
    "collapsed": true
   },
   "outputs": [],
   "source": [
    "# Import necessary packages & configure settings\n",
    "import numpy as np\n",
    "# contains more functions than np.linalg and always compiled with BLAS/LAPACK support so it could be faster\n",
    "from scipy import linalg\n",
    "import matplotlib.pyplot as plt\n",
    "import timeit\n",
    "import time\n",
    "\n",
    "%matplotlib inline\n",
    "fs_med = 16 # medium font size for plots\n",
    "np.set_printoptions(precision=3)"
   ]
  },
  {
   "cell_type": "code",
   "execution_count": 4,
   "metadata": {
    "collapsed": true
   },
   "outputs": [],
   "source": [
    "# Settings related to numerics\n",
    "tol = 1e-06 # tolerance"
   ]
  },
  {
   "cell_type": "markdown",
   "metadata": {},
   "source": [
    "<img src=\"hw3_1_1.png\" style=\"width: 800px;\"/>"
   ]
  },
  {
   "cell_type": "markdown",
   "metadata": {},
   "source": [
    "<img src=\"hw2_3.png\">"
   ]
  },
  {
   "cell_type": "markdown",
   "metadata": {},
   "source": [
    "### Part 1: Finding Eigenvalues of $A$"
   ]
  },
  {
   "cell_type": "markdown",
   "metadata": {},
   "source": [
    "$A$ is a real, symmetric, tri-diagonal/band diagonal matrix (because tri-diagonals are a subset of band diagonals). The fact that $A$ is real and symmetric means it is also Hermitian; we know that all eigenvalues of $A$ must be real as that is a property of Hermitian matrices.\n",
    "\n"
   ]
  },
  {
   "cell_type": "code",
   "execution_count": 5,
   "metadata": {
    "scrolled": true
   },
   "outputs": [
    {
     "data": {
      "text/plain": [
       "array([[ 2.,  3.,  0.,  0.,  0.],\n",
       "       [ 3.,  2.,  3.,  0.,  0.],\n",
       "       [ 0.,  3.,  2.,  3.,  0.],\n",
       "       [ 0.,  0.,  3.,  2.,  3.],\n",
       "       [ 0.,  0.,  0.,  3.,  2.]])"
      ]
     },
     "execution_count": 5,
     "metadata": {},
     "output_type": "execute_result"
    }
   ],
   "source": [
    "# Initialize tri-diagonal matrix A\n",
    "A = np.diag(2*np.ones(5,),0) + np.diag(3*np.ones(4,),1) + np.diag(3*np.ones(4,),-1)\n",
    "A"
   ]
  },
  {
   "cell_type": "markdown",
   "metadata": {},
   "source": [
    "Here we implement a QR eigenvalue algorithm which uses QR decomposition; QR decomposition converts $A$ into an orthogonal matrix $Q$ and upper-triangular $R$. \n",
    "$$A = Q\\cdot R$$\n",
    "Note that since $Q$ is orthogonal, $Q^T Q=I$ so $R=Q^T A$. Furthermore, $A' = RQ = Q^T A Q$ is an orthogonal transformation of $A$ (meaning it will preserve the eigenvalues of $A$). However with successive applications, $A$ will be transformed into a diagonal matrix which solely consists of its eigenvalues."
   ]
  },
  {
   "cell_type": "code",
   "execution_count": 39,
   "metadata": {
    "collapsed": true,
    "scrolled": true
   },
   "outputs": [],
   "source": [
    "# Perform QR decomposition iteratively\n",
    "def QReig(A,tol):\n",
    "    # init\n",
    "    Q0,R0 = linalg.qr(A) # init\n",
    "    Anew = np.dot(R0,Q0)\n",
    "    niter = 1 # number of iterations\n",
    "    \n",
    "    # main loop. stops when the difference for each value b/w successive iterations is < tol\n",
    "    while np.all(np.abs(np.diag(Anew) - np.diag(A)) >= tol):\n",
    "        A = Anew\n",
    "        Q,R = linalg.qr(A)\n",
    "        Anew = np.dot(R,Q)\n",
    "        niter += 1\n",
    "    \n",
    "    print('QReig: Eigenvalues converged in',niter,'iterations')\n",
    "    return np.sort(np.diag(Anew))"
   ]
  },
  {
   "cell_type": "markdown",
   "metadata": {},
   "source": [
    "Note that the convergence of the QR eigenvalue algorithm is approximately\n",
    "\n",
    "$$\\left(\\frac{\\lambda_i}{\\lambda_j}\\right)^n$$\n",
    "\n",
    "where $n$ is the iteration, $\\lambda_i$ and $\\lambda_j$ are eigenvalues. If eigenvalues are sufficiently close or if an eigenvalue is close to $0$ there may be issues with convergence. In that case it is useful to apply the shifted QR algorithm which takes advantage of the fact that the eigenvalues for $A-kI$ are $\\lambda_i - k,~ \\forall i$. $k$ is a constant and $I$ is the identity matrix.\n",
    "\n",
    "In practice, we will typically always use shifting as we do not know how similar the eigenvalues are a priori. However in this case we are told $A$ does not have similar eigenvalues and $B$ does; hence the un-shifted QR algorithm implemented above. The implications will be illustrated in the following code."
   ]
  },
  {
   "cell_type": "code",
   "execution_count": 40,
   "metadata": {},
   "outputs": [
    {
     "name": "stdout",
     "output_type": "stream",
     "text": [
      "QReig: Eigenvalues converged in 12 iterations\n"
     ]
    },
    {
     "data": {
      "text/plain": [
       "array([-3.195, -1.   ,  2.   ,  5.   ,  7.195])"
      ]
     },
     "execution_count": 40,
     "metadata": {},
     "output_type": "execute_result"
    }
   ],
   "source": [
    "QReig(A,tol)"
   ]
  },
  {
   "cell_type": "markdown",
   "metadata": {},
   "source": [
    "Let's compare with scipy's eigenvalue solver to see how well our implementation performed (note that we can apply np.real() since the eigenvalues are real; any imaginary portions are due to computational errors)."
   ]
  },
  {
   "cell_type": "code",
   "execution_count": 32,
   "metadata": {},
   "outputs": [
    {
     "data": {
      "text/plain": [
       "array([-3.196, -1.   ,  2.   ,  5.   ,  7.196])"
      ]
     },
     "execution_count": 32,
     "metadata": {},
     "output_type": "execute_result"
    }
   ],
   "source": [
    "np.sort(np.real(linalg.eig(A)[0]))"
   ]
  },
  {
   "cell_type": "markdown",
   "metadata": {},
   "source": [
    "### Part 2: Finding Eigenvalues of $B$"
   ]
  },
  {
   "cell_type": "markdown",
   "metadata": {},
   "source": [
    "As mentioned earlier, the eigenvalues of $A-kI$ are $\\lambda_i - k,~ \\forall i$. By inspection we can see that the eigenvalues for matrix $B$ will be the same as for $A$ but shifted by $2$. One of the eigenvalues in $A$ was $2$ so we will have an eigenvalue of $0$. Thus we should use shifting to help our QR algorithm converge."
   ]
  },
  {
   "cell_type": "code",
   "execution_count": 10,
   "metadata": {},
   "outputs": [
    {
     "data": {
      "text/plain": [
       "array([[ 0.,  3.,  0.,  0.,  0.],\n",
       "       [ 3.,  0.,  3.,  0.,  0.],\n",
       "       [ 0.,  3.,  0.,  3.,  0.],\n",
       "       [ 0.,  0.,  3.,  0.,  3.],\n",
       "       [ 0.,  0.,  0.,  3.,  0.]])"
      ]
     },
     "execution_count": 10,
     "metadata": {},
     "output_type": "execute_result"
    }
   ],
   "source": [
    "B = np.diag(3*np.ones(4,),1) + np.diag(3*np.ones(4,),-1)\n",
    "B"
   ]
  },
  {
   "cell_type": "markdown",
   "metadata": {},
   "source": [
    "Note, our implementation (QR without shifting) fails on matrix $B$ and just returns a vector of zeros..."
   ]
  },
  {
   "cell_type": "code",
   "execution_count": 34,
   "metadata": {
    "scrolled": true
   },
   "outputs": [
    {
     "name": "stdout",
     "output_type": "stream",
     "text": [
      "[[ 0.  3.  0.  0.  0.]\n",
      " [ 3.  0.  3.  0.  0.]\n",
      " [ 0.  3.  0.  3.  0.]\n",
      " [ 0.  0.  3.  0.  3.]\n",
      " [ 0.  0.  0.  3.  0.]]\n",
      "QReig: Eigenvalues converged in 1 iterations\n"
     ]
    },
    {
     "data": {
      "text/plain": [
       "array([ 0.,  0.,  0.,  0.,  0.])"
      ]
     },
     "execution_count": 34,
     "metadata": {},
     "output_type": "execute_result"
    }
   ],
   "source": [
    "QReig(B,tol)"
   ]
  },
  {
   "cell_type": "markdown",
   "metadata": {},
   "source": [
    "Let's shift matrix $B$ by $k=2$ (which essentially just turns it back into $A$) then subtract $2$ from the result to obtain the eigenvalues for $B$."
   ]
  },
  {
   "cell_type": "code",
   "execution_count": 42,
   "metadata": {},
   "outputs": [
    {
     "name": "stdout",
     "output_type": "stream",
     "text": [
      "QReig: Eigenvalues converged in 12 iterations\n"
     ]
    },
    {
     "data": {
      "text/plain": [
       "array([ -5.195e+00,  -3.000e+00,  -9.280e-06,   3.000e+00,   5.195e+00])"
      ]
     },
     "execution_count": 42,
     "metadata": {},
     "output_type": "execute_result"
    }
   ],
   "source": [
    "Bshift = B + 2*np.eye(5)\n",
    "QReig(Bshift,tol) - 2"
   ]
  },
  {
   "cell_type": "markdown",
   "metadata": {},
   "source": [
    "Now compare to the results from scipy's eigenvalue routine:"
   ]
  },
  {
   "cell_type": "code",
   "execution_count": 43,
   "metadata": {},
   "outputs": [
    {
     "data": {
      "text/plain": [
       "array([ -5.196e+00,  -3.000e+00,  -4.025e-16,   3.000e+00,   5.196e+00])"
      ]
     },
     "execution_count": 43,
     "metadata": {},
     "output_type": "execute_result"
    }
   ],
   "source": [
    "np.sort(np.real(linalg.eig(B)[0]))"
   ]
  },
  {
   "cell_type": "markdown",
   "metadata": {},
   "source": [
    "Cool! Eigenvalues are correct!"
   ]
  },
  {
   "cell_type": "markdown",
   "metadata": {},
   "source": [
    "<img src=\"hw3_1_2.png\" style=\"width: 800px;\"/>"
   ]
  },
  {
   "cell_type": "markdown",
   "metadata": {},
   "source": [
    "### Part 3: Finding Eigenvalues of $C$"
   ]
  },
  {
   "cell_type": "markdown",
   "metadata": {},
   "source": [
    "First, construct matrix $C$"
   ]
  },
  {
   "cell_type": "code",
   "execution_count": 50,
   "metadata": {},
   "outputs": [
    {
     "data": {
      "text/plain": [
       "array([[ 5.252,  1.888, -1.082, -3.014, -0.02 ],\n",
       "       [ 4.881,  6.594, -1.895, -4.387, -4.231],\n",
       "       [ 3.647,  0.469,  1.199, -3.223,  0.416],\n",
       "       [ 2.295,  2.188, -1.757, -0.017, -0.189],\n",
       "       [ 2.075,  1.03 , -0.457, -1.949,  1.973]])"
      ]
     },
     "execution_count": 50,
     "metadata": {},
     "output_type": "execute_result"
    }
   ],
   "source": [
    "D = np.diag(np.arange(5)+1,0)\n",
    "S = np.random.rand(5,5)\n",
    "C = np.dot(np.dot(S,D),linalg.inv(S))\n",
    "C"
   ]
  },
  {
   "cell_type": "markdown",
   "metadata": {},
   "source": [
    "$C$ is a real, but non-symmetric matrix. There is no sparsity pattern so it is also a full matrix."
   ]
  },
  {
   "cell_type": "markdown",
   "metadata": {},
   "source": [
    "Solving for the eigenvalues of $C$ is actually trivial. Left-multiplying by $S$ and right-multiplying by $S^{-1}$ no matter what $S$ may be is an orthogonal transformation because\n",
    "\n",
    "$$\\det{C} = \\det{S} \\cdot \\det{D} \\cdot \\det{S^{-1}} = \\det{D} \\cdot 1 = \\det{D}$$\n",
    "\n",
    "Thus, we can easily find the eigenvalues of $D$ as they are also the eigenvalues of $C$. Since $D$ is a diagonal matrix, the eigenvalues are simply the values on its main diagonal (ie $\\mathbf{\\lambda} = [1,2,3,4,5])$."
   ]
  },
  {
   "cell_type": "markdown",
   "metadata": {},
   "source": [
    "However, if we consider this as a full and general matrix with no outstanding features, it would make sense to use QR with shifting after reducing the matrix to Hessenberg form. We don't know a priori how similar the eigenvalues are so shifting is necessary to ensure quick convergence."
   ]
  },
  {
   "cell_type": "markdown",
   "metadata": {},
   "source": [
    "Performing QR decomposition on a full and general matrix such as $C$ would take $\\mathcal{O}(N^3)$ operations *per iteration*. However $QR$ decomposition is $\\mathcal{O}(N^2)$ per iteration for Hessenberg matrices and only $\\mathcal{O}(N)$ per iteration for tri-diagonal matrices! Converting $C$ to a Hessenberg matrix would preserve the eigenvalues while reducing computational costs significantly. The most common algorithm used is the Householder method which takes $\\mathcal{O}(N^3)$ operations and converts the matrix to a Hessenberg (or tri-diagonal if the matrix was originally symmetric!).\n",
    "\n",
    "Thus, for a full and general matrix, converting to Hessenberg form takes us from approximately $\\mathcal{O}(N^4)$ to $\\mathcal{O}(N^3)$ operations!"
   ]
  },
  {
   "cell_type": "markdown",
   "metadata": {},
   "source": [
    "Let's solve for the eigenvalues of $C$ by using converting it to Hessenberg form, shifting, and applying our QR algorithm. A crude but typically decent choice of $k$ is to look at the eigenvalues in the top left $2 \\times 2$ corner of $A$ and picking the value closest to $A_{11}$"
   ]
  },
  {
   "cell_type": "code",
   "execution_count": 95,
   "metadata": {
    "scrolled": true
   },
   "outputs": [
    {
     "name": "stdout",
     "output_type": "stream",
     "text": [
      "QReig: Eigenvalues converged in 14 iterations\n"
     ]
    }
   ],
   "source": [
    "# find eigenvalues of upper left 2x2 matrix\n",
    "eig2by2 = QReig(C[0:2,0:2],tol)\n",
    "# function to find the nearest number in an array to a given value\n",
    "def findNearest(arr,value):\n",
    "    idx = (np.abs(arr-value)).argmin()\n",
    "    return arr[idx]\n",
    "# value to shift by\n",
    "k = findNearest(eig2by2,C[0,0])"
   ]
  },
  {
   "cell_type": "code",
   "execution_count": 104,
   "metadata": {
    "collapsed": true
   },
   "outputs": [],
   "source": [
    "Ch = linalg.hessenberg(C + k*np.eye(5,5))"
   ]
  },
  {
   "cell_type": "code",
   "execution_count": 107,
   "metadata": {},
   "outputs": [
    {
     "name": "stdout",
     "output_type": "stream",
     "text": [
      "QReig: Eigenvalues converged in 57 iterations\n"
     ]
    },
    {
     "data": {
      "text/plain": [
       "array([ 1.   ,  2.   ,  3.   ,  4.001,  4.999])"
      ]
     },
     "execution_count": 107,
     "metadata": {},
     "output_type": "execute_result"
    }
   ],
   "source": [
    "QReig(Ch,tol) - k"
   ]
  },
  {
   "cell_type": "markdown",
   "metadata": {},
   "source": [
    "Eigenvalues calculated are the same as we determined analytically earlier..."
   ]
  }
 ],
 "metadata": {
  "kernelspec": {
   "display_name": "Python 3",
   "language": "python",
   "name": "python3"
  },
  "language_info": {
   "codemirror_mode": {
    "name": "ipython",
    "version": 3
   },
   "file_extension": ".py",
   "mimetype": "text/x-python",
   "name": "python",
   "nbconvert_exporter": "python",
   "pygments_lexer": "ipython3",
   "version": "3.6.1"
  }
 },
 "nbformat": 4,
 "nbformat_minor": 2
}
