{
 "cells": [
  {
   "cell_type": "markdown",
   "metadata": {},
   "source": [
    "## A11535519 - Justin Laughlin\n",
    "### MAE 290A: Homework 3 (11/21/17)\n",
    "### Problem 2"
   ]
  },
  {
   "cell_type": "code",
   "execution_count": 1,
   "metadata": {
    "collapsed": true
   },
   "outputs": [],
   "source": [
    "# Import necessary packages & configure settings\n",
    "import numpy as np\n",
    "# contains more functions than np.linalg and always compiled with BLAS/LAPACK support so it could be faster\n",
    "from scipy import linalg\n",
    "import matplotlib.pyplot as plt\n",
    "import timeit\n",
    "import time\n",
    "\n",
    "%matplotlib inline\n",
    "fs_med = 16 # medium font size for plots\n",
    "np.set_printoptions(precision=5)"
   ]
  },
  {
   "cell_type": "markdown",
   "metadata": {},
   "source": [
    "<img src=\"hw3_2.png\" style=\"width: 800px;\"/>"
   ]
  },
  {
   "cell_type": "markdown",
   "metadata": {},
   "source": [
    "<img src=\"hw2_3.png\">"
   ]
  },
  {
   "cell_type": "markdown",
   "metadata": {},
   "source": [
    "### Part 1: Numerically differentiating using splines"
   ]
  },
  {
   "cell_type": "markdown",
   "metadata": {},
   "source": [
    "Typically, numerical derivatives are calculated using finite difference methods. However one can also use splines to interpolate between known data points; this results in a smooth and continuous function for $y(x)$ (see eq 3.3.3) which can then be differentiated to obtain another smooth and continuous function for $y'(x)$ (see eq 3.3.5). Equations 3.3.7 and 3.3.5 are used to construct a linear set of equations where the unknown vector consists of the values of $y''(x)$ at each point. Specifically, eq 3.3.7 is used for points $i=1,...,N-1$; while eq 3.3.5 is used for points $i=0,N$ (i.e. boundary conditions). Typically $y'(x)$ is prescribed at the boundaries which leaves only the $y''(x)$ terms as unknowns (as an example, see the bottom and top rows of the matrix equation in part 3). Since each point only depends on its adjacent points, the system will be tri-diagonal, making it very easy to solve!\n",
    "\n",
    "Once the system has been solved, one can easily plug in values of $x$ and $y''(x)$ into eq 3.3.5 to obtain $y'(x)$; this procedure is demonstrated in the final plot at the bottom of this problem where $y'(x)$ calculated using splines is plotted vs $x$.\n",
    "\n",
    "Note that $A$, $B$, $C$, and $D$ are all functions of $x$... this is important to realize when differentiating eq 3.3.3 to obtain eq 3.3.5."
   ]
  },
  {
   "cell_type": "markdown",
   "metadata": {},
   "source": [
    "### Part 2: Interpolating using splines"
   ]
  },
  {
   "cell_type": "markdown",
   "metadata": {},
   "source": [
    "The process to interpolate between points using splines is almost exactly the same as differentiating as we explained in part 1. The only difference is instead of plugging values of $x$ and $y''(x)$ into eq 3.3.3 to obtain $y(x)$, we plug them into eq 3.3.5 to obtain $y'(x)$. To interpolate using splines one still must setup a linear system of equations using eq 3.3.7 and 3.3.5 (all of these processes are shown in detail in part 3!). Once $y''(x)$ has been solved for, we have all unknowns to solve for $y(x)$ in eq 3.3.3. See the first plot in part 3 which illustrates a spline fit of $y(x)$ vs $x$."
   ]
  },
  {
   "cell_type": "markdown",
   "metadata": {},
   "source": [
    "### Part 3: Applying differentiation using cubic splines"
   ]
  },
  {
   "cell_type": "markdown",
   "metadata": {},
   "source": [
    "<img src=\"eq3_3_2.png\" style=\"width: 700px;\"/>\n",
    "<img src=\"eq3_3_3.png\" style=\"width: 700px;\"/>\n",
    "<img src=\"eq3_3_4.png\" style=\"width: 700px;\"/>\n",
    "<img src=\"eq3_3_5.png\" style=\"width: 700px;\"/>\n",
    "<img src=\"eq3_3_7.png\" style=\"width: 700px;\"/>"
   ]
  },
  {
   "cell_type": "code",
   "execution_count": 2,
   "metadata": {},
   "outputs": [],
   "source": [
    "# Analytical values of x, y, and y'\n",
    "xa = np.array([0,1,2])\n",
    "ya = np.array([1,2,3])\n",
    "ypa0 = 0  # y' analytical at x0\n",
    "ypa2 = -6 # y'analytical at x2\n",
    "\n",
    "# Function for eq 3.3.5 (derivative of spline)\n",
    "def eval_dydx(xa,ya,ypp,j,x):\n",
    "    # xa and ya are the known values of x and y\n",
    "    # ypp is either calculated or provided (for the endpoints)\n",
    "    # j is the index\n",
    "    # x is the value we would like to evaluate the derivative at\n",
    "    \n",
    "    # A and B scale linearly between x_{j} and x_{j+1}. At x_{j}: A=1, B=0; at x_{j+1}: A=0, B=0\n",
    "    xdiff = xa[j+1]-xa[j]\n",
    "    ydiff = ya[j+1]-ya[j]\n",
    "    A = (xa[j+1]-x)/xdiff\n",
    "    B = 1-A\n",
    "\n",
    "    dydx = (ydiff/xdiff) - (3*A**2-1)/6*xdiff*ypp[j] + (3*B**2-1)/6*(xdiff)*ypp[j+1]\n",
    "    return dydx"
   ]
  },
  {
   "cell_type": "markdown",
   "metadata": {},
   "source": [
    "We can find equations for $y''(0)$ and $y''(2)$ using eq 3.3.5 and taking advantage of the fact that $B=0$ at $x_0$ and $A=0$ at $x_2$"
   ]
  },
  {
   "cell_type": "markdown",
   "metadata": {},
   "source": [
    "The matrix equation we must solve will be:\n",
    "\n",
    "$$\\begin{pmatrix}\n",
    "-\\frac16 (3(1)^2 - 1)(x_1 - x_0) & \\frac16 (3(0)^2 - 1)(x_1 - x_0) & 0\\\\\n",
    "(x_1 - x_0)/6 & (x_2-x_0)/3 & (x_2-x_1)/6\\\\\n",
    "0 & -\\frac16 (3(0)^2 - 1)(x_2 - x_1) & \\frac16 (3(1)^2 - 1)(x_2 - x_1)\n",
    "\\end{pmatrix}\n",
    "\\begin{pmatrix}\n",
    "y''_0 \\\\\n",
    "y''_1 \\\\\n",
    "y''_2 \n",
    "\\end{pmatrix} =\n",
    "\\begin{pmatrix}\n",
    "0.0 - (y_1 - y_0)/(x_1 - x_0) \\\\\n",
    "(y_2-y_1)/(x_2-x_1) - (y_1-y_0)/(x_1-x_0)\\\\\n",
    "-6.0 - (y_2 - y_1)/(x_2 - x_1)\n",
    "\\end{pmatrix}$$"
   ]
  },
  {
   "cell_type": "markdown",
   "metadata": {},
   "source": [
    "In general there will be $N$ unknowns and $N-2$ equations given by (3.3.7); the other two equations must come from (3.3.5) and/or boundary conditions. The form of eq 3.3.7 makes it clear that the matrix will be a tri-diagonal. Thus we will use a tridiagonal solver to obtain the solution."
   ]
  },
  {
   "cell_type": "code",
   "execution_count": 3,
   "metadata": {
    "scrolled": true
   },
   "outputs": [
    {
     "name": "stdout",
     "output_type": "stream",
     "text": [
      "ypp = [ -2.77556e-16   6.00000e+00  -2.40000e+01]\n"
     ]
    }
   ],
   "source": [
    "c = np.array([0,-1/6*(xa[1]-xa[0]), (xa[2]-xa[1])/6]) # upper diag\n",
    "b = np.array([-1/6*2*(xa[1]-xa[0]), (xa[2]-xa[0])/3, 1/6*2*(xa[2]-xa[1])]) # main diag\n",
    "a = np.array([(xa[1]-xa[0])/6, 1/6*(xa[2]-xa[1]),0]) # lower diag\n",
    "\n",
    "f = np.array([0.0 - (ya[1]-ya[0])/(xa[1]-xa[0]),\n",
    "              (ya[2]-ya[1])/(xa[2]-xa[1]) - (ya[1]-ya[0])/(xa[1]-xa[0]),\n",
    "              -6.0 - (ya[2]-ya[1])/(xa[2]-xa[1])]) # rhs vector \n",
    "\n",
    "abc = np.vstack((c,b,a)) # concatenate diagonals\n",
    "\n",
    "ypp = linalg.solve_banded((1,1), abc,f) # solve tri-diagonal system\n",
    "\n",
    "print('ypp =', ypp) # print results"
   ]
  },
  {
   "cell_type": "markdown",
   "metadata": {},
   "source": [
    "For curiosity, let's calculate and plot both $y(x)$ and $y'(x)$ as determined by our spline interpolation!"
   ]
  },
  {
   "cell_type": "code",
   "execution_count": 4,
   "metadata": {
    "scrolled": true
   },
   "outputs": [
    {
     "data": {
      "text/plain": [
       "<matplotlib.text.Text at 0x1a722946828>"
      ]
     },
     "execution_count": 4,
     "metadata": {},
     "output_type": "execute_result"
    },
    {
     "data": {
      "image/png": "[encoded data removed]",
      "text/plain": [
       "<matplotlib.figure.Figure at 0x1a722fda278>"
      ]
     },
     "metadata": {},
     "output_type": "display_data"
    }
   ],
   "source": [
    "# Function for eq 3.3.5 (derivative of spline)\n",
    "def eval_y(xa,ya,ypp,j,x):\n",
    "    # xa and ya are the known values of x and y\n",
    "    # ypp is either calculated or provided (for the endpoints)\n",
    "    # j is the index\n",
    "    # x is the value we would like to evaluate the derivative at\n",
    "    \n",
    "    # A and B scale linearly between x_{j} and x_{j+1}. At x_{j}: A=1, B=0; at x_{j+1}: A=0, B=0\n",
    "    xdiff = xa[j+1]-xa[j]\n",
    "    ydiff = ya[j+1]-ya[j]\n",
    "    A = (xa[j+1]-x)/xdiff\n",
    "    B = 1-A\n",
    "    C = 1/6 * (A**3 - A)*xdiff**2\n",
    "    D = 1/6 * (B**3 - B)*xdiff**2\n",
    "    \n",
    "    y = A*ya[j] + B*ya[j+1] + C*ypp[j] + D*ypp[j+1]\n",
    "    return y\n",
    "\n",
    "Nvec = 100\n",
    "xvec = np.linspace(0,2,Nvec) # values to evaluate y(x) on\n",
    "yvec = np.zeros(Nvec,) # initialize\n",
    "ypvec = np.zeros(Nvec,)\n",
    "for i in np.arange(Nvec):\n",
    "    x = xvec[i]\n",
    "    # index of spline\n",
    "    j = np.int(np.floor(x))\n",
    "    if x==2:\n",
    "        j = 1\n",
    "    # Calculate y(x) using spline fit\n",
    "    yvec[i] = eval_y(xa,ya,ypp,j,x)\n",
    "    ypvec[i] = eval_dydx(xa,ya,ypp,j,x)\n",
    "\n",
    "# Plot y(x)\n",
    "plt.plot(xvec,yvec)\n",
    "plt.plot(xa,ya,'r*') # known values of y(x)\n",
    "plt.xlabel('x',fontsize=fs_med)\n",
    "plt.ylabel('y(x)',fontsize=fs_med)\n",
    "plt.title('y(x) [spline fit]',fontsize=fs_med)"
   ]
  },
  {
   "cell_type": "code",
   "execution_count": 5,
   "metadata": {
    "scrolled": false
   },
   "outputs": [
    {
     "data": {
      "text/plain": [
       "<matplotlib.text.Text at 0x1a722dc4f28>"
      ]
     },
     "execution_count": 5,
     "metadata": {},
     "output_type": "execute_result"
    },
    {
     "data": {
      "image/png": "[encoded data removed]",
      "text/plain": [
       "<matplotlib.figure.Figure at 0x1a72246ca90>"
      ]
     },
     "metadata": {},
     "output_type": "display_data"
    }
   ],
   "source": [
    "# Plot y'(x)\n",
    "plt.plot(xvec,ypvec)\n",
    "plt.plot([0,2],[ypa0,ypa2],'r*') # known values of y'(x)\n",
    "plt.xlabel('x',fontsize=fs_med)\n",
    "plt.ylabel('yp(x)',fontsize=fs_med)\n",
    "plt.title('yp(x) [spline fit]',fontsize=fs_med)"
   ]
  },
  {
   "cell_type": "markdown",
   "metadata": {},
   "source": [
    "The spline passes through all known points and the derivatives match up with our prescribed boundary conditions... Nice!"
   ]
  },
  {
   "cell_type": "code",
   "execution_count": 6,
   "metadata": {},
   "outputs": [
    {
     "name": "stdout",
     "output_type": "stream",
     "text": [
      "Derivative of spline at x=1 (yp_1):  3.0\n"
     ]
    }
   ],
   "source": [
    "print('Derivative of spline at x=1 (yp_1): ', eval_dydx(xa,ya,ypp,0,1))"
   ]
  }
 ],
 "metadata": {
  "kernelspec": {
   "display_name": "Python 3",
   "language": "python",
   "name": "python3"
  },
  "language_info": {
   "codemirror_mode": {
    "name": "ipython",
    "version": 3
   },
   "file_extension": ".py",
   "mimetype": "text/x-python",
   "name": "python",
   "nbconvert_exporter": "python",
   "pygments_lexer": "ipython3",
   "version": "3.6.1"
  }
 },
 "nbformat": 4,
 "nbformat_minor": 2
}
