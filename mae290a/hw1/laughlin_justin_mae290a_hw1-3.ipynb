{
 "cells": [
  {
   "cell_type": "markdown",
   "metadata": {},
   "source": [
    "## A11535519 - Justin Laughlin\n",
    "### MAE 290A: Homework 1 (10/19/17)\n",
    "### Problem 3"
   ]
  },
  {
   "cell_type": "code",
   "execution_count": 1,
   "metadata": {
    "collapsed": true
   },
   "outputs": [],
   "source": [
    "# Import necessary packages & configure settings\n",
    "import numpy as np\n",
    "from scipy import linalg\n",
    "import matplotlib.pyplot as plt\n",
    "import timeit\n",
    "\n",
    "%matplotlib inline"
   ]
  },
  {
   "cell_type": "markdown",
   "metadata": {},
   "source": [
    "### Governing equations:\n",
    "\n",
    "<img src=\"hw1_3.png\">"
   ]
  },
  {
   "cell_type": "markdown",
   "metadata": {},
   "source": [
    "### Known parameters"
   ]
  },
  {
   "cell_type": "code",
   "execution_count": 2,
   "metadata": {
    "collapsed": true
   },
   "outputs": [],
   "source": [
    "m     = 1000 # mass of floors [kg]\n",
    "alpha = np.sqrt(2)/2 # sin(pi/4)=cos(pi/4)\n",
    "g     = 9.8 # gravitational acceleration [m/s^2]\n",
    "d1 = d3 = d5 = d7 = 1000 # Tension [N]"
   ]
  },
  {
   "cell_type": "markdown",
   "metadata": {},
   "source": [
    "### Rewriting equations in matrix form\n",
    "**NOTE: my matrix may look different as the order of equations has been rearranged slightly (moves from bottom to top for \"vertical forces\" then bottom to top for \"horizontal forces\"**\n",
    "\n",
    "$$\\begin{pmatrix}\n",
    "0 & 1 & 0 & -1 & 0 & 0 & 0 & 0 & 0 & 0 & 0 & 0 & 0 & \\alpha & 0 & 0\\\\\n",
    "1 & 0 & -1 & 0 & 0 & 0 & 0 & 0 & 0 & 0 & 0 & 0 & -\\alpha & 0 & 0 & 0\\\\\n",
    "0 & 0 & 0 & 1 & 0 & -1 & 0 & 0 & 0 & 0 & 0 & 0 & 0 & 0 & \\alpha & 0\\\\\n",
    "0 & 0 & 1 & 0 & -1 & 0 & 0 & 0 & 0 & 0 & 0 & 0 & 0 & -\\alpha & 0 & 0\\\\\n",
    "0 & 0 & 0 & 0 & 0 & 1 & 0 & -1 & 0 & 0 & 0 & 0 & 0 & 0 & 0 & \\alpha\\\\\n",
    "0 & 0 & 0 & 0 & 1 & 0 & -1 & 0 & 0 & 0 & 0 & 0 & 0 & 0 & -\\alpha & 0\\\\\n",
    "0 & 0 & 0 & 0 & 0 & 0 & 0 & 1 & 0 & 0 & 0 & 0 & 0 & 0 & 0 & 0\\\\\n",
    "0 & 0 & 0 & 0 & 0 & 0 & 1 & 0 & 0 & 0 & 0 & 0 & 0 & 0 & 0 & -\\alpha\\\\\n",
    "0 & 0 & 0 & 0 & 0 & 0 & 0 & 0 & 1 & 0 & 0 & 0 & 0 & -\\alpha & 0 & 0\\\\\n",
    "0 & 0 & 0 & 0 & 0 & 0 & 0 & 0 & -1 & 0 & 0 & 0 & \\alpha & 0 & 0 & 0\\\\\n",
    "0 & 0 & 0 & 0 & 0 & 0 & 0 & 0 & 0 & 1 & 0 & 0 & 0 & 0 & -\\alpha & 0\\\\\n",
    "0 & 0 & 0 & 0 & 0 & 0 & 0 & 0 & 0 & -1 & 0 & 0 & 0 & \\alpha & 0 & 0\\\\\n",
    "0 & 0 & 0 & 0 & 0 & 0 & 0 & 0 & 0 & 0 & 1 & 0 & 0 & 0 & 0 & -\\alpha\\\\\n",
    "0 & 0 & 0 & 0 & 0 & 0 & 0 & 0 & 0 & 0 & -1 & 0 & 0 & 0 & \\alpha & 0\\\\\n",
    "0 & 0 & 0 & 0 & 0 & 0 & 0 & 0 & 0 & 0 & 0 & 1 & 0 & 0 & 0 & 0\\\\\n",
    "0 & 0 & 0 & 0 & 0 & 0 & 0 & 0 & 0 & 0 & 0 & -1 & 0 & 0 & 0 & \\alpha\\\\\n",
    "\\end{pmatrix}\n",
    "\\begin{pmatrix}\n",
    "p_1 \\\\\n",
    "p_2 \\\\\n",
    "p_3 \\\\\n",
    "p_4 \\\\\n",
    "p_5 \\\\\n",
    "p_6 \\\\\n",
    "p_7 \\\\\n",
    "p_8 \\\\\n",
    "f_1 \\\\\n",
    "f_2 \\\\\n",
    "f_3 \\\\\n",
    "f_4 \\\\\n",
    "d_2 \\\\\n",
    "d_4 \\\\\n",
    "d_6 \\\\\n",
    "d_8 \\\\\n",
    "\\end{pmatrix} \\\\ =\n",
    "\\begin{pmatrix}\n",
    "mg/2 + \\alpha d_1\\\\\n",
    "mg/2 - \\alpha d_3\\\\\n",
    "mg/2 + \\alpha d_3\\\\\n",
    "mg/2 - \\alpha d_5\\\\\n",
    "mg/2 + \\alpha d_5\\\\\n",
    "mg/2 - \\alpha d_7\\\\\n",
    "mg/2 + \\alpha d_7\\\\\n",
    "mg/2 \\\\\n",
    "\\alpha d_1 \\\\\n",
    "-\\alpha d_3 \\\\\n",
    "\\alpha d_3 \\\\\n",
    "-\\alpha d_5 \\\\\n",
    "\\alpha d_5 \\\\\n",
    "-\\alpha d_7 \\\\\n",
    "\\alpha d_7 \\\\\n",
    "0 \\\\\n",
    "\\end{pmatrix}$$"
   ]
  },
  {
   "cell_type": "markdown",
   "metadata": {},
   "source": [
    "First, solve for $\\mathbf{x} = \\begin{pmatrix}\n",
    "p_1, &\n",
    "p_2, &\n",
    "p_3, &\n",
    "p_4, &\n",
    "p_5, &\n",
    "p_6, &\n",
    "p_7, &\n",
    "p_8, &\n",
    "f_1, &\n",
    "f_2, &\n",
    "f_3, &\n",
    "f_4, &\n",
    "d_2, &\n",
    "d_4, &\n",
    "d_6, &\n",
    "d_8\n",
    "\\end{pmatrix}^T$\n",
    "using $\\text{LU}$ decomposition"
   ]
  },
  {
   "cell_type": "code",
   "execution_count": 3,
   "metadata": {
    "collapsed": true
   },
   "outputs": [],
   "source": [
    "# Setup our LHS matrix, A. Also, setup our RHS vector, f\n",
    "def initAf(m,d1,d3,d5,d7):\n",
    "    A = np.array(([0, 1, 0, -1, 0, 0, 0, 0, 0, 0, 0, 0, 0, alpha, 0, 0],\n",
    "    [1, 0, -1, 0, 0, 0, 0, 0, 0, 0, 0, 0, -alpha, 0, 0, 0],\n",
    "    [0, 0, 0, 1, 0, -1, 0, 0, 0, 0, 0, 0, 0, 0, alpha, 0],\n",
    "    [0, 0, 1, 0, -1, 0, 0, 0, 0, 0, 0, 0, 0, -alpha, 0, 0],\n",
    "    [0, 0, 0, 0, 0, 1, 0, -1, 0, 0, 0, 0, 0, 0, 0, alpha],\n",
    "    [0, 0, 0, 0, 1, 0, -1, 0, 0, 0, 0, 0, 0, 0, -alpha, 0],\n",
    "    [0, 0, 0, 0, 0, 0, 0, 1, 0, 0, 0, 0, 0, 0, 0, 0],\n",
    "    [0, 0, 0, 0, 0, 0, 1, 0, 0, 0, 0, 0, 0, 0, 0, -alpha],\n",
    "    [0, 0, 0, 0, 0, 0, 0, 0, 1, 0, 0, 0, 0, -alpha, 0, 0],\n",
    "    [0, 0, 0, 0, 0, 0, 0, 0, -1, 0, 0, 0, alpha, 0, 0, 0],\n",
    "    [0, 0, 0, 0, 0, 0, 0, 0, 0, 1, 0, 0, 0, 0, -alpha, 0],\n",
    "    [0, 0, 0, 0, 0, 0, 0, 0, 0, -1, 0, 0, 0, alpha, 0, 0],\n",
    "    [0, 0, 0, 0, 0, 0, 0, 0, 0, 0, 1, 0, 0, 0, 0, -alpha],\n",
    "    [0, 0, 0, 0, 0, 0, 0, 0, 0, 0, -1, 0, 0, 0, alpha, 0],\n",
    "    [0, 0, 0, 0, 0, 0, 0, 0, 0, 0, 0, 1, 0, 0, 0, 0],\n",
    "    [0, 0, 0, 0, 0, 0, 0, 0, 0, 0, 0, -1, 0, 0, 0, alpha]))\n",
    "\n",
    "    f = np.array(([m*g/2 + alpha*d1, \n",
    "                   m*g/2 - alpha*d3, \n",
    "                   m*g/2 + alpha*d3, \n",
    "                   m*g/2 - alpha*d5, \n",
    "                   m*g/2 + alpha*d5, \n",
    "                   m*g/2 - alpha*d7, \n",
    "                   m*g/2 + alpha*d7, \n",
    "                   m*g/2,\n",
    "                   alpha*d1,\n",
    "                   -alpha*d3,\n",
    "                   alpha*d3,\n",
    "                   -alpha*d5,\n",
    "                   alpha*d5,\n",
    "                   -alpha*d7,\n",
    "                   alpha*d7,\n",
    "                   0]))\n",
    "    return A,f"
   ]
  },
  {
   "cell_type": "code",
   "execution_count": 4,
   "metadata": {
    "collapsed": true
   },
   "outputs": [],
   "source": [
    "A,f = initAf(m,d1,d3,d5,d7)"
   ]
  },
  {
   "cell_type": "markdown",
   "metadata": {},
   "source": [
    "### $\\mathbf{LU}$ decomposition"
   ]
  },
  {
   "cell_type": "markdown",
   "metadata": {},
   "source": [
    "Since $\\mathbf{A}=\\mathbf{P\\cdot L\\cdot U}$ and we are trying to solve $\\mathbf{A}\\cdot \\mathbf{x} = \\mathbf{f}$ we can write\n",
    "$$\\left( \\mathbf{P\\cdot L\\cdot U} \\right) \\cdot \\mathbf{x} = \\mathbf{f}$$\n",
    "Additionally, $\\mathbf{P}$ is an orthogonal matrix (we will demonstrate this below by showing $\\text{det}(\\mathbf{P})=\\pm 1$), which means that $P^T = P^{-1}$. Therefore we can write\n",
    "$$\\left( \\mathbf{L\\cdot U} \\right) \\cdot \\mathbf{x} = \\mathbf{P^T} \\cdot \\mathbf{f}$$\n",
    "Let us define a vector $\\mathbf{y} = \\mathbf{U} \\cdot \\mathbf{x}$. Now we have two simple problems to solve which can be done with forward and backward substitution, respectively.\n",
    "\n",
    "$$\\mathbf{L} \\cdot \\mathbf{y} = \\mathbf{P^T} \\cdot \\mathbf{f}$$\n",
    "$$\\mathbf{U} \\cdot \\mathbf{x} = \\mathbf{y}$$"
   ]
  },
  {
   "cell_type": "markdown",
   "metadata": {},
   "source": [
    "First, define functions for forward and backward substitution which are required once $\\mathbf{A}$ has been decomposed into lower and upper triangular matrices. Also, for convenience, we will define a function LUsolve(A,f) which automatically applies all necessary functions to solve for $\\mathbf{x}$:"
   ]
  },
  {
   "cell_type": "code",
   "execution_count": 5,
   "metadata": {
    "collapsed": true
   },
   "outputs": [],
   "source": [
    "# Forward substitution\n",
    "# Solves Ly=f when L is lower diagonal\n",
    "def fsub(L,f):\n",
    "    # Initialize\n",
    "    N = len(f)\n",
    "    y = np.ndarray((N,), dtype=np.double)\n",
    "    y[0] = f[0]/L[0,0]\n",
    "    \n",
    "    # Forward sub\n",
    "    for j in np.arange(1,N):\n",
    "        y[j] = (f[j] - np.dot(L[j,0:j],y[0:j]))/L[j,j]\n",
    "    \n",
    "    return y\n",
    "\n",
    "# Backward substitution\n",
    "# Solves Ux=y when U is upper diagonal\n",
    "def bsub(U,y):\n",
    "        # Initialize\n",
    "    N = len(y)\n",
    "    x = np.ndarray((N,), dtype=np.double)\n",
    "    x[-1] = y[-1]/U[N-1,N-1]\n",
    "    \n",
    "    # Backward sub\n",
    "    for j in np.arange(N-2,-1,-1):\n",
    "        x[j] = (y[j] - np.dot(U[j,(j+1):],x[(j+1):]))/U[j,j]\n",
    "    \n",
    "    return x\n",
    "\n",
    "# Solve Ax=f using LU decomposition\n",
    "def LUsolve(A,f):\n",
    "    # Perform LU decomposition. In scipy's implementation A = PLU\n",
    "    P, L, U = linalg.lu(A)\n",
    "    F = np.dot(P.T,f)\n",
    "    y = fsub(L,F)\n",
    "    x = bsub(U,y)\n",
    "    \n",
    "    return x"
   ]
  },
  {
   "cell_type": "code",
   "execution_count": 6,
   "metadata": {
    "collapsed": true
   },
   "outputs": [],
   "source": [
    "# This wrapper allows functions such as LUsolve() to be timed by timeit.timeit() so we can compare performance with Gauss Jordan\n",
    "def wrapper(func, *args, **kwargs):\n",
    "    def wrapped():\n",
    "        return func(*args, **kwargs)\n",
    "    return wrapped"
   ]
  },
  {
   "cell_type": "code",
   "execution_count": 7,
   "metadata": {
    "scrolled": true
   },
   "outputs": [
    {
     "name": "stdout",
     "output_type": "stream",
     "text": [
      "det(P) = 1.0\n"
     ]
    }
   ],
   "source": [
    "# Confirm that P is orthogonal (det(P)= +-1) allowing P^T = P^{-1}\n",
    "P, L, U = linalg.lu(A)\n",
    "print(\"det(P) =\",linalg.det(P))"
   ]
  },
  {
   "cell_type": "markdown",
   "metadata": {},
   "source": [
    "### Gauss-Jordan Elimination"
   ]
  },
  {
   "cell_type": "code",
   "execution_count": 8,
   "metadata": {
    "collapsed": true
   },
   "outputs": [],
   "source": [
    "# Returns the inverse of matrix A. Uses full pivoting.\n",
    "def gaussJordan(Anew,bnew):\n",
    "    # Initialize\n",
    "    n = len(bnew)\n",
    "    indxc = [None]*n\n",
    "    indxr = [None]*n\n",
    "    ipiv  = np.zeros((n,1), dtype=np.int64)\n",
    "    \n",
    "    # Main loop\n",
    "    for i in np.arange(n):\n",
    "        big = 0.0;\n",
    "        for j in np.arange(n):\n",
    "            if ipiv[j] != 1:\n",
    "                for k in np.arange(n):\n",
    "                    if ipiv[k] == 0:\n",
    "                        if np.abs(Anew[j,k]) >= big:\n",
    "                            big = abs(Anew[j,k])\n",
    "                            irow = j\n",
    "                            icol = k\n",
    "        ipiv[icol] += 1\n",
    "        if irow != icol:\n",
    "            for l in np.arange(n):\n",
    "                Anew[irow,l], Anew[icol,l] = Anew[icol,l], Anew[irow,l]\n",
    "            bnew[irow], bnew[icol] = bnew[icol], bnew[irow]\n",
    "        indxr[i] = irow\n",
    "        indxc[i] = icol\n",
    "        if Anew[icol,icol] == 0.0:\n",
    "            print('gaussJordan: Singular Matrix!')\n",
    "        pivinv = 1.0/Anew[icol,icol]\n",
    "        Anew[icol,icol] = 1.0\n",
    "        Anew[icol,:] *= pivinv\n",
    "        bnew[icol] *= pivinv\n",
    "        for ll in np.arange(n):\n",
    "            if ll != icol:\n",
    "                dum = Anew[ll,icol]\n",
    "                Anew[ll,icol] = 0.0\n",
    "                for l in np.arange(n):\n",
    "                    Anew[ll,l] -= Anew[icol,l]*dum\n",
    "                bnew[ll] -= bnew[icol]*dum\n",
    "            \n",
    "    for l in np.arange(n-1,-1,-1):\n",
    "        if indxr[l] != indxc[l]:\n",
    "            for k in np.arange(n):\n",
    "                Anew[k,indxr[l]], Anew[k,indxc[l]] = Anew[k,indxc[l]], Anew[k,indxr[l]]\n",
    "    return Anew,bnew"
   ]
  },
  {
   "cell_type": "markdown",
   "metadata": {},
   "source": [
    "### Benchmarking Speeds"
   ]
  },
  {
   "cell_type": "code",
   "execution_count": 9,
   "metadata": {},
   "outputs": [
    {
     "name": "stdout",
     "output_type": "stream",
     "text": [
      "Time to run LU decomp 1000 times: 0.0633 s\n",
      "Time to run GJ (full pivoting) 1000 times: 5.7486 s\n"
     ]
    }
   ],
   "source": [
    "nrun = 1000 # number of times to run inversion algorithms for benchmarking\n",
    "print(\"Time to run LU decomp %d times: %.4f\" % (nrun, timeit.timeit(wrapper(LUsolve,A,f), number = nrun)),\"s\")\n",
    "print(\"Time to run GJ (full pivoting) %d times: %.4f\" % (nrun, timeit.timeit(wrapper(gaussJordan,np.copy(A),np.copy(f)), number = nrun)),\"s\")"
   ]
  },
  {
   "cell_type": "markdown",
   "metadata": {},
   "source": [
    "Theoretically, LU decomposition should be faster than Gauss-Jordan Elimination ($\\mathcal{O}(N^3/3)$ versus $\\mathcal{O}(N^3/2)$). We do see that LU decomposition runs faster than Gauss-Jordan but the difference is much higher than expected (approximately two orders of magnitude). This is because the LU decomposition function called is a wrapper around LAPACK which is extremely efficient. The Gauss-Jordan code written is a poor adaption from C code to Python translated by myself from \"Numerical Recipes\" By William Press. With improvements that would be natural when working with numpy arrays such as vectorization I am sure the speed of the Gauss-Jordan algorithm could be increased but it is difficult for any code written in a high level language such as Python to beat a wrapper around C or Fortran code. Hence why one of the greatest uses of Python in scientific computing is to act as a \"glue\" language. In practice, for any heavy computing it is almost always better to use wrappers of routines written in low level languages.\n",
    "\n",
    "If we would like to solve for different combinations of floor-mass and pretension loading it would be optimal to use LU decomposition rather than Gauss-Jordan. Not only is there a LAPACK routine available, thus making the computations highly efficient, but Gauss-Jordan is sub-optimal when solving for multiple RHS vectors if they are not known ahead of time. Although Gauss-Jordan will compute some $A^{-1}$, meaning you could multiply a new RHS vector by this inverse, it is somewhat susceptible to round-off error and it is much safer to include this RHS vector during the calculation to begin with. LU decomposition allows one to solve $\\mathbf{A} \\cdot \\mathbf{x} = \\mathbf{f}$ for new RHS vectors using only simple forward and back substitution!\n",
    "\n",
    "However, if memory is of great concern it may be more efficient to use Gauss-Jordan. LU decomposition creates three arrays, P, L, and U, which all have size $N\\times N$, thus requiring the user to store $3N^2$ values. Gauss-Jordan converts the array $\\mathbf{A}$ into $\\mathbf{A}^{-1}$ during its execution, thus making it quite memory efficient."
   ]
  },
  {
   "cell_type": "markdown",
   "metadata": {},
   "source": [
    "Now, let us solve for $\\mathbf{x}$ using both LU decomposition and Gauss-Jordan to show that they provide equivalent answers (and are correct!)"
   ]
  },
  {
   "cell_type": "code",
   "execution_count": 10,
   "metadata": {},
   "outputs": [
    {
     "data": {
      "text/plain": [
       "array([ 20307.10678119,  20307.10678119,  15407.10678119,  15407.10678119,\n",
       "        10507.10678119,  10507.10678119,   5607.10678119,   5607.10678119,\n",
       "         1414.21356237,   1414.21356237,   1414.21356237,    707.10678119,\n",
       "         1000.        ,   1000.        ,   1000.        ,   1000.        ])"
      ]
     },
     "execution_count": 10,
     "metadata": {},
     "output_type": "execute_result"
    }
   ],
   "source": [
    "# Solve using LU\n",
    "xlu = LUsolve(A,f)\n",
    "xlu"
   ]
  },
  {
   "cell_type": "code",
   "execution_count": 11,
   "metadata": {},
   "outputs": [
    {
     "data": {
      "text/plain": [
       "array([ 20307.10678119,  20307.10678119,  15407.10678119,  15407.10678119,\n",
       "        10507.10678119,  10507.10678119,   5607.10678119,   5607.10678119,\n",
       "         1414.21356237,   1414.21356237,   1414.21356237,    707.10678119,\n",
       "         1000.        ,   1000.        ,   1000.        ,   1000.        ])"
      ]
     },
     "execution_count": 11,
     "metadata": {},
     "output_type": "execute_result"
    }
   ],
   "source": [
    "# Solve using Gauss-Jordan\n",
    "Ainv, xgj = gaussJordan(np.copy(A),np.copy(f))\n",
    "xgj"
   ]
  },
  {
   "cell_type": "code",
   "execution_count": 13,
   "metadata": {
    "scrolled": false
   },
   "outputs": [
    {
     "data": {
      "text/plain": [
       "array([ True,  True,  True,  True,  True,  True,  True,  True,  True,\n",
       "        True,  True,  True,  True,  True,  True,  True], dtype=bool)"
      ]
     },
     "execution_count": 13,
     "metadata": {},
     "output_type": "execute_result"
    }
   ],
   "source": [
    "# tests whether the two solutions are close (within a tolerance)\n",
    "# np.isclose(a,b) is equivalent to absolute(a - b) <= (1e-08 + 1e-05 * absolute(b))\n",
    "np.isclose(xlu,xgj)"
   ]
  },
  {
   "cell_type": "markdown",
   "metadata": {},
   "source": [
    "Cool! Our solutions are equivalent (dimensions are in Newtons)... Let us test to see if it is correct (by plugging $\\mathbf{x}$ back into $\\mathbf{A} \\cdot \\mathbf{x}$ and checking that it is equal to $\\mathbf{f}$)"
   ]
  },
  {
   "cell_type": "code",
   "execution_count": 14,
   "metadata": {
    "scrolled": true
   },
   "outputs": [
    {
     "data": {
      "text/plain": [
       "array([ True,  True,  True,  True,  True,  True,  True,  True,  True,\n",
       "        True,  True,  True,  True,  True,  True,  True], dtype=bool)"
      ]
     },
     "execution_count": 14,
     "metadata": {},
     "output_type": "execute_result"
    }
   ],
   "source": [
    "np.isclose(np.dot(A,xlu), f)"
   ]
  },
  {
   "cell_type": "markdown",
   "metadata": {
    "collapsed": true
   },
   "source": [
    "Now let's solve for three different cases (we will use LU decomposition to do so for the reasons stated previously).\n",
    "\n",
    "In all cases $d_1=d_3=d_5=d_7=d$.\n",
    "\n",
    "Case 1) $m=1000 \\text{kg}$, $d=1000 \\text{N}$\n",
    "\n",
    "Case 2) $m=4000 \\text{kg}$, $d=1000 \\text{N}$\n",
    "\n",
    "Case 3) $m=1000 \\text{kg}$, $d=4000 \\text{N}$"
   ]
  },
  {
   "cell_type": "code",
   "execution_count": 15,
   "metadata": {},
   "outputs": [
    {
     "data": {
      "text/plain": [
       "array([ 20307.10678119,  20307.10678119,  15407.10678119,  15407.10678119,\n",
       "        10507.10678119,  10507.10678119,   5607.10678119,   5607.10678119,\n",
       "         1414.21356237,   1414.21356237,   1414.21356237,    707.10678119,\n",
       "         1000.        ,   1000.        ,   1000.        ,   1000.        ])"
      ]
     },
     "execution_count": 15,
     "metadata": {},
     "output_type": "execute_result"
    }
   ],
   "source": [
    "# Case 1\n",
    "m = 1000\n",
    "d1=d3=d5=d7=1000\n",
    "A,f = initAf(m,d1,d3,d5,d7)\n",
    "xlu_case1 = LUsolve(A,f)\n",
    "xlu_case1"
   ]
  },
  {
   "cell_type": "code",
   "execution_count": 16,
   "metadata": {},
   "outputs": [
    {
     "data": {
      "text/plain": [
       "array([ 79107.10678119,  79107.10678119,  59507.10678119,  59507.10678119,\n",
       "        39907.10678119,  39907.10678119,  20307.10678119,  20307.10678119,\n",
       "         1414.21356237,   1414.21356237,   1414.21356237,    707.10678119,\n",
       "         1000.        ,   1000.        ,   1000.        ,   1000.        ])"
      ]
     },
     "execution_count": 16,
     "metadata": {},
     "output_type": "execute_result"
    }
   ],
   "source": [
    "# Case 2\n",
    "m = 4000\n",
    "d1=d3=d5=d7=1000\n",
    "A,f = initAf(m,d1,d3,d5,d7)\n",
    "xlu_case1 = LUsolve(A,f)\n",
    "xlu_case1"
   ]
  },
  {
   "cell_type": "code",
   "execution_count": 17,
   "metadata": {},
   "outputs": [
    {
     "data": {
      "text/plain": [
       "array([ 22428.42712475,  22428.42712475,  17528.42712475,  17528.42712475,\n",
       "        12628.42712475,  12628.42712475,   7728.42712475,   7728.42712475,\n",
       "         5656.85424949,   5656.85424949,   5656.85424949,   2828.42712475,\n",
       "         4000.        ,   4000.        ,   4000.        ,   4000.        ])"
      ]
     },
     "execution_count": 17,
     "metadata": {},
     "output_type": "execute_result"
    }
   ],
   "source": [
    "# Case 3\n",
    "m = 1000\n",
    "d1=d3=d5=d7=4000\n",
    "A,f = initAf(m,d1,d3,d5,d7)\n",
    "xlu_case1 = LUsolve(A,f)\n",
    "xlu_case1"
   ]
  }
 ],
 "metadata": {
  "kernelspec": {
   "display_name": "Python 3",
   "language": "python",
   "name": "python3"
  },
  "language_info": {
   "codemirror_mode": {
    "name": "ipython",
    "version": 3
   },
   "file_extension": ".py",
   "mimetype": "text/x-python",
   "name": "python",
   "nbconvert_exporter": "python",
   "pygments_lexer": "ipython3",
   "version": "3.6.1"
  }
 },
 "nbformat": 4,
 "nbformat_minor": 2
}
