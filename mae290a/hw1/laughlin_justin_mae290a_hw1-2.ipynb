{
 "cells": [
  {
   "cell_type": "markdown",
   "metadata": {},
   "source": [
    "## A11535519 - Justin Laughlin\n",
    "### MAE 290A: Homework 1 (10/19/17)\n",
    "### Problem 2"
   ]
  },
  {
   "cell_type": "code",
   "execution_count": 2,
   "metadata": {
    "collapsed": true
   },
   "outputs": [],
   "source": [
    "# Import necessary packages & configure settings\n",
    "import numpy as np\n",
    "import scipy as sp\n",
    "import pandas as pd\n",
    "import matplotlib.pyplot as plt\n",
    "\n",
    "%matplotlib inline"
   ]
  },
  {
   "cell_type": "markdown",
   "metadata": {},
   "source": [
    "### Governing equation:\n",
    "\n",
    "One dimensional Poisson equation with Dirichlet BCs $u(0)=u(1)=0$\n",
    "\n",
    "$$\\frac{\\partial^2 u}{\\partial x^2} = f(x) = \\cos{(2\\pi x)} - 1$$"
   ]
  },
  {
   "cell_type": "markdown",
   "metadata": {},
   "source": [
    "### Solving for $u(x)$ analytically\n",
    "\n",
    "Since $u=u(x)$ we can easily solve this equation analytically by integrating twice...\n",
    "\n",
    "$$\\frac{\\partial u}{\\partial x} = \\frac{1}{2\\pi}\\sin{(2\\pi x)} - x + A$$\n",
    "$$u(x) = \\frac{-1}{(2\\pi)^2}\\cos{(2\\pi x)} - \\frac{x^2}{2} + Ax + B$$\n",
    "\n",
    "Applying the BCs gives:\n",
    "\n",
    "$$u(0) = 0 = \\frac{-1}{(2\\pi)^2} + B \\rightarrow \\boxed{B=\\frac{1}{(2\\pi)^2}}$$\n",
    "$$u(1) = 0 = \\frac{-1}{(2\\pi)^2}\\cos{(2\\pi)} - \\frac{1}{2} + A + \\frac{1}{(2\\pi)^2} \\rightarrow \\boxed{A=\\frac12}$$\n",
    "\n",
    "And plugging $A$ and $B$ into our solution gives:\n",
    "$$\\boxed{u(x) = \\frac{1}{(2\\pi)^2} \\left(1 - \\cos{2\\pi x} \\right) + \\frac{x}{2} \\left(1 - x\\right)}$$"
   ]
  },
  {
   "cell_type": "code",
   "execution_count": 3,
   "metadata": {},
   "outputs": [
    {
     "data": {
      "text/plain": [
       "<matplotlib.text.Text at 0x12e4f7c5828>"
      ]
     },
     "execution_count": 3,
     "metadata": {},
     "output_type": "execute_result"
    },
    {
     "data": {
      "image/png": "[encoded data removed]",
      "text/plain": [
       "<matplotlib.figure.Figure at 0x12e4f5a3eb8>"
      ]
     },
     "metadata": {},
     "output_type": "display_data"
    }
   ],
   "source": [
    "# Let's plot u(x) to see what it looks like!\n",
    "x  = np.linspace(0,1,num=30)\n",
    "ua = (1 - np.cos(2*np.pi*x))/(2*np.pi)**2 + x/2 * (1-x)\n",
    "\n",
    "plt.plot(x,ua)\n",
    "plt.ylabel('u(x) [analyltical]', fontsize=16)\n",
    "plt.xlabel('x', fontsize=16)"
   ]
  },
  {
   "cell_type": "markdown",
   "metadata": {},
   "source": [
    "### Discretizing $u(x)$\n",
    "\n",
    "Discretize the domain $x \\in [0,1]$ into $N$ grid points:\n",
    "$$x_i = (i-1) \\cdot h$$\n",
    "$$h = \\frac{1}{N-1}$$\n",
    "\n",
    "Use the second order central difference equation\n",
    "\n",
    "$$\\frac{\\partial^2 u}{\\partial x^2} = \\frac{u_{i+1} - 2u_i + u_{i-1}}{h^2}$$\n",
    "\n",
    "Our governing equation can now be re-written as\n",
    "\n",
    "$$\\boxed{u_{i+1} - 2u_i + u_{i-1} = h^2\\left[\\cos{(2\\pi x_i)} - 1\\right]}$$"
   ]
  },
  {
   "cell_type": "markdown",
   "metadata": {},
   "source": [
    "### Re-writing discretized equation in matrix form ($\\mathbf{A} \\cdot \\mathbf{u} = \\mathbf{f}$)\n",
    "\n",
    "Constructing the matrix for $N=7$... Since the values of $u(0)=u_0$ and $u(1)=u_6$ are equal to $0$ (known), their rows have been adjusted to match this condition\n",
    "\n",
    "$$\\begin{pmatrix}\n",
    "1 & 0 & 0 & 0 & 0 & 0 & 0\\\\\n",
    "1 & -2 & 1 & 0 & 0 & 0 & 0\\\\\n",
    "0 & 1 & -2 & 1 & 0 & 0 & 0\\\\\n",
    "0 & 0 & 1 & -2 & 1 & 0 & 0\\\\\n",
    "0 & 0 & 0 & 1 & -2 & 1 & 0\\\\\n",
    "0 & 0 & 0 & 0 & 1 & -2 & 1\\\\\n",
    "0 & 0 & 0 & 0 & 0 & 0 & 1\\\\\n",
    "\\end{pmatrix}\n",
    "\\begin{pmatrix}\n",
    "u_0 \\\\\n",
    "u_1 \\\\\n",
    "u_2 \\\\\n",
    "u_3 \\\\\n",
    "u_4 \\\\\n",
    "u_5 \\\\\n",
    "u_6 \\\\\n",
    "\\end{pmatrix} =\n",
    "h^2 \\begin{pmatrix}\n",
    "\\cos{(2\\pi x_0)} - 1 \\\\\n",
    "\\cos{(2\\pi x_1)} - 1 \\\\\n",
    "\\cos{(2\\pi x_2)} - 1 \\\\\n",
    "\\cos{(2\\pi x_3)} - 1 \\\\\n",
    "\\cos{(2\\pi x_4)} - 1 \\\\\n",
    "\\cos{(2\\pi x_5)} - 1 \\\\\n",
    "\\cos{(2\\pi x_6)} - 1 \n",
    "\\end{pmatrix}$$\n",
    "\n",
    "Since this is a tri-diagonal matrix we can solve the matrix inversion problem in $\\mathcal{O}(N)$ instead of the typical cost of $\\sim \\mathcal{O}(N^3)$ (yay!). To do so we rewrite the equation as\n",
    "$$a_i u_{i-1} + b_i u_i + c_i u_{i+1} = f_i$$\n",
    "\n",
    "where $a_i$, $b_i$, and $c_i$ are the values of the $i$th row for the lower, main, and upper diagonals, respectively.\n",
    "\n",
    "Note: $a[0]$ and $c[N-1]$ will be undefined (or set to $0$) as they are not a part of the matrix. Also $f[0]=f[N-1]=0$ (can check by evaluating) which satisfies our boundary conditions."
   ]
  },
  {
   "cell_type": "code",
   "execution_count": 4,
   "metadata": {
    "collapsed": true
   },
   "outputs": [],
   "source": [
    "# Initialize all variables necessary for the tri-diagonal matrix formulation\n",
    "N = 30 # number of nodes\n",
    "x = np.linspace(0,1,N) # discretized domain\n",
    "h = 1/(N-1) # spacing between nodes\n",
    "a = np.concatenate((np.zeros(1), np.ones((N-2,), dtype=np.double), np.zeros(1))) # lower diagonal\n",
    "b = np.concatenate((np.ones(1), -2 * np.ones((N-2,), dtype=np.double), np.ones(1))) # main diagonal\n",
    "c = np.concatenate((np.zeros(1), np.ones((N-2,), dtype=np.double), np.zeros(1))) # upper diagonal\n",
    "f = h**2 * (np.cos(2*np.pi*x) - 1) # RHS vector"
   ]
  },
  {
   "cell_type": "code",
   "execution_count": 5,
   "metadata": {
    "collapsed": true
   },
   "outputs": [],
   "source": [
    "# Function that solves the tridiagonal matrix\n",
    "def tridiag(a,b,c,f):\n",
    "\n",
    "    # Initialize\n",
    "    N = len(f)\n",
    "    u = np.ndarray((N,), dtype=np.double)\n",
    "    gam = np.ndarray((N,), dtype=np.double)\n",
    "    if (b[0] == 0.0):\n",
    "        print(\"ERROR 1 in tridiag()\")\n",
    "        return\n",
    "    else:\n",
    "        bet = b[0]\n",
    "\n",
    "    # Decomposition & forward substitution\n",
    "    for j in np.arange(1,N):\n",
    "        gam[j] = c[j-1] / bet\n",
    "        bet    = b[j] - a[j]*gam[j]\n",
    "        if (bet==0.0):\n",
    "            print(\"ERROR 2 in tridiag()\")\n",
    "        else:\n",
    "            u[j] = (f[j]-a[j]*u[j-1])/bet\n",
    "    # Backsubstitution\n",
    "    for j in np.arange(N-2,-1,-1):\n",
    "        u[j] -= gam[j+1]*u[j+1]\n",
    "        \n",
    "    return u"
   ]
  },
  {
   "cell_type": "code",
   "execution_count": 6,
   "metadata": {
    "collapsed": true
   },
   "outputs": [],
   "source": [
    "# Solve the system\n",
    "u = tridiag(a,b,c,f)"
   ]
  },
  {
   "cell_type": "code",
   "execution_count": 15,
   "metadata": {},
   "outputs": [
    {
     "data": {
      "text/plain": [
       "<matplotlib.legend.Legend at 0x12e5101ce10>"
      ]
     },
     "execution_count": 15,
     "metadata": {},
     "output_type": "execute_result"
    },
    {
     "data": {
      "image/png": "[encoded data removed]",
      "text/plain": [
       "<matplotlib.figure.Figure at 0x12e4ffd6048>"
      ]
     },
     "metadata": {},
     "output_type": "display_data"
    }
   ],
   "source": [
    "# Plot results. Compare with analytical\n",
    "plt.plot(x,ua, label=\"u (analytical)\")\n",
    "plt.plot(x,u, linestyle=':', label=\"u (numerical)\")\n",
    "plt.ylabel('u(x)', fontsize=16)\n",
    "plt.xlabel('x', fontsize=16)\n",
    "plt.legend(bbox_to_anchor=(0., 1.02, 1., .102), loc=3,\n",
    "           ncol=2, mode=\"expand\", borderaxespad=0., fontsize=12)"
   ]
  },
  {
   "cell_type": "markdown",
   "metadata": {},
   "source": [
    "Results seem to match the analytical solution quite welll! Lets find the maximum error (in terms of absolute difference) between the two solutions..."
   ]
  },
  {
   "cell_type": "code",
   "execution_count": 7,
   "metadata": {
    "scrolled": true
   },
   "outputs": [
    {
     "name": "stdout",
     "output_type": "stream",
     "text": [
      "Maximum error between analytical and numerical solutions is:  0.000198060558323\n"
     ]
    }
   ],
   "source": [
    "print(\"Maximum error between analytical and numerical solutions is: \",np.max(np.abs(u-ua)))"
   ]
  }
 ],
 "metadata": {
  "kernelspec": {
   "display_name": "Python 3",
   "language": "python",
   "name": "python3"
  },
  "language_info": {
   "codemirror_mode": {
    "name": "ipython",
    "version": 3
   },
   "file_extension": ".py",
   "mimetype": "text/x-python",
   "name": "python",
   "nbconvert_exporter": "python",
   "pygments_lexer": "ipython3",
   "version": "3.6.1"
  }
 },
 "nbformat": 4,
 "nbformat_minor": 2
}
